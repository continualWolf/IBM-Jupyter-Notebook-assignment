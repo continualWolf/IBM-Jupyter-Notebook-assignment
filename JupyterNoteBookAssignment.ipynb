{
 "cells": [
  {
   "cell_type": "markdown",
   "id": "45c8bef3-16a3-453c-9ed9-fbb2b9a22a95",
   "metadata": {},
   "source": [
    "# Peer-graded Assignment"
   ]
  },
  {
   "cell_type": "markdown",
   "id": "44b0b5c3-1269-4897-a91d-a09d821e7cc1",
   "metadata": {},
   "source": [
    "This is an introduction to my peer-graded assignment."
   ]
  },
  {
   "cell_type": "markdown",
   "id": "7099889b-9676-4b1f-b86b-9386ff36b981",
   "metadata": {},
   "source": [
    "There is a vast array of different languages that you can use in data science, some of those languages include:\n",
    "- Python\n",
    "- R\n",
    "- Java"
   ]
  },
  {
   "cell_type": "markdown",
   "id": "5e31d372-46e9-46a3-aa62-bc5b2dc72ec6",
   "metadata": {},
   "source": [
    "There are also many libraries that are used alongside these languages for example :\n",
    "- Pytorch\n",
    "- TensorFlow\n",
    "- ggplot2"
   ]
  },
  {
   "cell_type": "markdown",
   "id": "3cb30058-29f3-4897-bc0c-5a3f0330c65a",
   "metadata": {},
   "source": [
    "<table>\n",
    "    <tr>\n",
    "        <th></th>\n",
    "        <th>Data science tools</th>\n",
    "    </tr>\n",
    "    <tr>\n",
    "        <td>1</td>\n",
    "        <td>Jupyter Notebooks</td>\n",
    "    </tr>\n",
    "    <tr>\n",
    "        <td>2</td>\n",
    "        <td>IBM Watson</td>\n",
    "    </tr>\n",
    "    <tr>\n",
    "        <td>3</td>\n",
    "        <td>VS Code</td>\n",
    "    </tr>\n",
    "</table>"
   ]
  },
  {
   "cell_type": "markdown",
   "id": "1188e28d-f27e-4506-9e0e-0500b986325e",
   "metadata": {},
   "source": [
    "# Arithmetic Expressions\n",
    "In the following cells i will be giving some examples of different types of arithmetic expressions."
   ]
  },
  {
   "cell_type": "code",
   "execution_count": 41,
   "id": "c8a3098f-5e18-49e8-badc-8a3a092aca73",
   "metadata": {},
   "outputs": [
    {
     "name": "stdout",
     "output_type": "stream",
     "text": [
      "7\n",
      "10\n"
     ]
    }
   ],
   "source": [
    "def multiply(a, b):\n",
    "    return a * b;\n",
    "\n",
    "def add(a, b):\n",
    "    return a + b;\n",
    "\n",
    "print(add(5, 2));\n",
    "print(multiply(5, 2));"
   ]
  },
  {
   "cell_type": "code",
   "execution_count": 37,
   "id": "a07f5e49-706c-4ffe-bd9e-1bc52bad09e4",
   "metadata": {},
   "outputs": [
    {
     "name": "stdout",
     "output_type": "stream",
     "text": [
      "360\n"
     ]
    }
   ],
   "source": [
    "def getMinutes(hours):\n",
    "    return hours * 60;\n",
    "\n",
    "print(getMinutes(6))"
   ]
  },
  {
   "cell_type": "markdown",
   "id": "dc2a94a0-14df-46ce-a512-bb634cab942b",
   "metadata": {},
   "source": [
    "The objectives of this notebook are to display:\n",
    "- my ability to create markdowns and code cells.\n",
    "- my knowledge on data science languages, libraries and tools.\n",
    "- my ability to use code cells with python effectively"
   ]
  },
  {
   "cell_type": "markdown",
   "id": "ee6146b2-0805-4e93-89fd-c74a4969ed52",
   "metadata": {},
   "source": [
    "Author: Benjamin Watt"
   ]
  },
  {
   "cell_type": "code",
   "execution_count": null,
   "id": "4ae6956d-c0df-4257-a041-57975bd2bf31",
   "metadata": {},
   "outputs": [],
   "source": []
  }
 ],
 "metadata": {
  "kernelspec": {
   "display_name": "Python 3 (ipykernel)",
   "language": "python",
   "name": "python3"
  },
  "language_info": {
   "codemirror_mode": {
    "name": "ipython",
    "version": 3
   },
   "file_extension": ".py",
   "mimetype": "text/x-python",
   "name": "python",
   "nbconvert_exporter": "python",
   "pygments_lexer": "ipython3",
   "version": "3.12.4"
  }
 },
 "nbformat": 4,
 "nbformat_minor": 5
}
